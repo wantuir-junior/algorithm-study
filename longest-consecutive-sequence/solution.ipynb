{
 "cells": [
  {
   "cell_type": "code",
   "execution_count": null,
   "metadata": {},
   "outputs": [],
   "source": [
    "class Solution:\n",
    "    def longestConsecutiveSequence(self, nums: list[int]) -> int:\n",
    "        nums_set = set(nums)\n",
    "        longest_seq = 0\n",
    "\n",
    "        for num in nums:\n",
    "            if (num-1) not in nums_set:\n",
    "                seq_lenght = 0\n",
    "                while (num + seq_lenght) in nums_set:\n",
    "                    seq_lenght += 1\n",
    "                \n",
    "                longest_seq = max(seq_lenght, longest_seq)\n",
    "\n",
    "        return longest_seq\n"
   ]
  }
 ],
 "metadata": {
  "language_info": {
   "name": "python"
  }
 },
 "nbformat": 4,
 "nbformat_minor": 2
}
